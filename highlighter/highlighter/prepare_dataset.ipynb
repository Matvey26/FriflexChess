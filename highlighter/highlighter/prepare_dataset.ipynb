{
 "cells": [
  {
   "cell_type": "code",
   "execution_count": 2,
   "metadata": {
    "execution": {
     "iopub.execute_input": "2025-05-03T13:44:25.651431Z",
     "iopub.status.busy": "2025-05-03T13:44:25.650043Z",
     "iopub.status.idle": "2025-05-03T13:44:35.047230Z",
     "shell.execute_reply": "2025-05-03T13:44:35.046102Z",
     "shell.execute_reply.started": "2025-05-03T13:44:25.651382Z"
    }
   },
   "outputs": [],
   "source": [
    "import chess\n",
    "import torch\n",
    "import numpy as np\n",
    "from typing import Literal, Union, List, Tuple\n",
    "\n",
    "\n",
    "class MatrixEncoder:\n",
    "    def encode(self, board: chess.Board) -> np.ndarray:\n",
    "        # 12 каналов для фигур\n",
    "        board_state = np.zeros((15, 8, 8), dtype=np.float32)\n",
    "\n",
    "        # 1. Кодируем состояние доски\n",
    "        for square in chess.SQUARES:\n",
    "            piece = board.piece_at(square)\n",
    "            if piece is not None:\n",
    "                # Определяем канал:\n",
    "                # 0-5: пешка, конь, слон, ладья, ферзь, король\n",
    "                channel = piece.piece_type - 1\n",
    "                if piece.color == chess.BLACK:\n",
    "                    channel += 6\n",
    "                row = square // 8\n",
    "                col = square % 8\n",
    "                board_state[channel, row, col] = 1.0\n",
    "\n",
    "        # 2. Дополнительные признаки\n",
    "        if board.has_kingside_castling_rights(chess.WHITE):\n",
    "            board_state[12][7, 4] = 1.0  # Король белых на e1\n",
    "        if board.has_queenside_castling_rights(chess.WHITE):\n",
    "            board_state[12][7, 4] = 1.0  # Король белых на e1\n",
    "        if board.has_kingside_castling_rights(chess.BLACK):\n",
    "            board_state[12][7, 0] = -1.0  # Король чёрных на e8\n",
    "        if board.has_queenside_castling_rights(chess.BLACK):\n",
    "            board_state[12][7, 0] = -1.0  # Король чёрных на e8\n",
    "\n",
    "        if board.ep_square is not None:\n",
    "            ep_row = board.ep_square // 8\n",
    "            ep_col = board.ep_square % 8\n",
    "            board_state[13][ep_row, ep_col] = 1.0\n",
    "\n",
    "        if board.peek() and board.peek().promotion is None:\n",
    "            last_move = board.peek()\n",
    "            if abs(last_move.from_square - last_move.to_square) == 16:  # Ход на две клетки\n",
    "                double_move_row = last_move.to_square // 8\n",
    "                double_move_col = last_move.to_square % 8\n",
    "                board_state[14][double_move_row, double_move_col] = 1.0\n",
    "\n",
    "        return board_state\n",
    "\n",
    "    def get_encoded_shape(self):\n",
    "        return (15, 8, 8)"
   ]
  },
  {
   "cell_type": "code",
   "execution_count": 3,
   "metadata": {
    "execution": {
     "iopub.execute_input": "2025-05-03T13:44:35.053690Z",
     "iopub.status.busy": "2025-05-03T13:44:35.049091Z",
     "iopub.status.idle": "2025-05-03T13:44:35.109707Z",
     "shell.execute_reply": "2025-05-03T13:44:35.108616Z",
     "shell.execute_reply.started": "2025-05-03T13:44:35.053633Z"
    }
   },
   "outputs": [],
   "source": [
    "import chess.pgn\n",
    "import numpy as np\n",
    "import os\n",
    "from tqdm import tqdm\n",
    "import random\n",
    "\n",
    "class PgnToNpyConverter:\n",
    "    def __init__(\n",
    "        self,\n",
    "        pgn_path,\n",
    "        encoder,\n",
    "        output_dir,\n",
    "        max_games=None,\n",
    "        min_moves=10,\n",
    "        splits={\"train\": 0.7, \"val\": 0.15, \"test\": 0.15},\n",
    "    ):\n",
    "        self.pgn_path = pgn_path\n",
    "        self.encoder = encoder\n",
    "        self.output_dir = output_dir\n",
    "        self.max_games = max_games\n",
    "        self.min_moves = min_moves\n",
    "        self.splits = splits\n",
    "        \n",
    "        # Проверяем, что сумма долей равна 1 (с учётом погрешности float)\n",
    "        assert abs(sum(splits.values()) - 1.0) < 1e-6, \"Сумма долей должна быть равна 1\"\n",
    "        \n",
    "        # Создаём поддиректории для train, val и test\n",
    "        self.subdirs = {}\n",
    "        for split_name in splits.keys():\n",
    "            dir_path = os.path.join(output_dir, split_name)\n",
    "            os.makedirs(dir_path, exist_ok=True)\n",
    "            self.subdirs[split_name] = dir_path\n",
    "        \n",
    "    def process_games(self):\n",
    "        pgn = open(self.pgn_path)\n",
    "        game_count = 0\n",
    "        split_counts = {name: 0 for name in self.splits.keys()}\n",
    "        \n",
    "        with tqdm(desc=\"Processing games\") as pbar:\n",
    "            while True:\n",
    "                game = chess.pgn.read_game(pgn)\n",
    "                if game is None or (self.max_games is not None and game_count >= self.max_games):\n",
    "                    break\n",
    "                \n",
    "                board = game.board()\n",
    "                moves = list(game.mainline_moves())\n",
    "                \n",
    "                if len(moves) >= self.min_moves:\n",
    "                    # Собираем все позиции партии\n",
    "                    positions = []\n",
    "                    for move in moves:\n",
    "                        board.push(move)\n",
    "                        positions.append(self.encoder.encode(board))\n",
    "                    \n",
    "                    # Выбираем, в какую директорию сохранять\n",
    "                    rand_val = random.random()\n",
    "                    cumulative_prob = 0\n",
    "                    for split_name, prob in self.splits.items():\n",
    "                        cumulative_prob += prob\n",
    "                        if rand_val <= cumulative_prob:\n",
    "                            save_dir = self.subdirs[split_name]\n",
    "                            split_counts[split_name] += 1\n",
    "                            break\n",
    "                    \n",
    "                    # Сохраняем всю партию в один .npy файл\n",
    "                    game_array = np.stack(positions)\n",
    "                    np.save(os.path.join(save_dir, f\"game_{game_count}.npy\"), game_array)\n",
    "                    game_count += 1\n",
    "                \n",
    "                pbar.update(1)\n",
    "        \n",
    "        print(f\"Обработано {game_count} партий\")\n",
    "        for split_name, count in split_counts.items():\n",
    "            print(f\"{split_name}: {count} партий ({count / game_count * 100:.1f}%)\")"
   ]
  },
  {
   "cell_type": "markdown",
   "metadata": {},
   "source": [
    "Датасет с большим количеством игр можно найти на [lichess database](https://database.lichess.org/)\n",
    "Мы использовали датасет на июль 2014 года, содержащий 1,048,440 партий"
   ]
  },
  {
   "cell_type": "code",
   "execution_count": 4,
   "metadata": {
    "execution": {
     "iopub.execute_input": "2025-05-03T13:44:35.114450Z",
     "iopub.status.busy": "2025-05-03T13:44:35.111023Z",
     "iopub.status.idle": "2025-05-03T13:48:16.731890Z",
     "shell.execute_reply": "2025-05-03T13:48:16.730836Z",
     "shell.execute_reply.started": "2025-05-03T13:44:35.114380Z"
    },
    "tags": []
   },
   "outputs": [
    {
     "name": "stderr",
     "output_type": "stream",
     "text": [
      "Processing games: 5100it [03:41, 23.02it/s]"
     ]
    },
    {
     "name": "stdout",
     "output_type": "stream",
     "text": [
      "Обработано 5000 партий\n",
      "train: 3438 партий (68.8%)\n",
      "val: 797 партий (15.9%)\n",
      "test: 765 партий (15.3%)\n"
     ]
    },
    {
     "name": "stderr",
     "output_type": "stream",
     "text": [
      "\n"
     ]
    }
   ],
   "source": [
    "converter = PgnToNpyConverter(\n",
    "    pgn_path='/home/jupyter/datasphere/project/FriflexChess/lichess_db_standard_rated_2014-07.pgn',\n",
    "    encoder=MatrixEncoder(),\n",
    "    output_dir='/home/jupyter/datasphere/project/games/',\n",
    "    max_games=5000,\n",
    "    min_moves=15,\n",
    "    splits={\n",
    "        \"train\": 0.7,   # 70% в train\n",
    "        \"val\": 0.15,    # 15% в val\n",
    "        \"test\": 0.15     # 15% в test\n",
    "    }\n",
    ")\n",
    "converter.process_games()"
   ]
  }
 ],
 "metadata": {
  "kernelspec": {
   "display_name": "DataSphere Kernel",
   "language": "python",
   "name": "python3"
  },
  "language_info": {
   "codemirror_mode": {
    "name": "ipython",
    "version": 3
   },
   "file_extension": ".py",
   "mimetype": "text/x-python",
   "name": "python",
   "nbconvert_exporter": "python",
   "pygments_lexer": "ipython3",
   "version": "3.10.12"
  }
 },
 "nbformat": 4,
 "nbformat_minor": 4
}
