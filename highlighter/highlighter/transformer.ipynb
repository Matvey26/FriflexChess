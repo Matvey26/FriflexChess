{
 "cells": [
  {
   "cell_type": "code",
   "execution_count": 1,
   "metadata": {},
   "outputs": [],
   "source": [
    "import chess\n",
    "import torch\n",
    "import numpy as np\n",
    "from typing import Literal, Union, List, Tuple\n",
    "\n",
    "\n",
    "class MatrixEncoder:\n",
    "    def encode(self, board: chess.Board) -> np.ndarray:\n",
    "        # 12 каналов для фигур\n",
    "        board_state = np.zeros((12, 8, 8), dtype=np.float32)\n",
    "\n",
    "        # 1. Кодируем состояние доски\n",
    "        for square in chess.SQUARES:\n",
    "            piece = board.piece_at(square)\n",
    "            if piece is not None:\n",
    "                # Определяем канал:\n",
    "                # 0-5: пешка, конь, слон, ладья, ферзь, король\n",
    "                channel = piece.piece_type - 1\n",
    "                if piece.color == chess.BLACK:\n",
    "                    channel += 6\n",
    "                row = square // 8\n",
    "                col = square % 8\n",
    "                board_state[channel, row, col] = 1.0\n",
    "\n",
    "#         # 2. Дополнительные признаки\n",
    "#         if board.has_kingside_castling_rights(chess.WHITE):\n",
    "#             board_state[12][7, 4] = 1.0  # Король белых на e1\n",
    "#         if board.has_queenside_castling_rights(chess.WHITE):\n",
    "#             board_state[12][7, 4] = 1.0  # Король белых на e1\n",
    "#         if board.has_kingside_castling_rights(chess.BLACK):\n",
    "#             board_state[12][7, 0] = -1.0  # Король чёрных на e8\n",
    "#         if board.has_queenside_castling_rights(chess.BLACK):\n",
    "#             board_state[12][7, 0] = -1.0  # Король чёрных на e8\n",
    "\n",
    "#         if board.ep_square is not None:\n",
    "#             ep_row = board.ep_square // 8\n",
    "#             ep_col = board.ep_square % 8\n",
    "#             board_state[13][ep_row, ep_col] = 1.0\n",
    "\n",
    "#         if board.peek() and board.peek().promotion is None:\n",
    "#             last_move = board.peek()\n",
    "#             if abs(last_move.from_square - last_move.to_square) == 16:  # Ход на две клетки\n",
    "#                 double_move_row = last_move.to_square // 8\n",
    "#                 double_move_col = last_move.to_square % 8\n",
    "#                 board_state[14][double_move_row, double_move_col] = 1.0\n",
    "\n",
    "        return board_state\n",
    "\n",
    "    def get_encoded_shape(self):\n",
    "        return (12, 8, 8)"
   ]
  },
  {
   "cell_type": "code",
   "execution_count": 2,
   "metadata": {},
   "outputs": [],
   "source": [
    "import torch\n",
    "import torch.nn as nn\n",
    "\n",
    "\n",
    "class BinaryClassifierTransformer(nn.Module):\n",
    "    def __init__(self, input_dim, d_model=256, nhead=8, num_layers=8, dim_feedforward=256, dropout=0.1):\n",
    "        super().__init__()\n",
    "        \n",
    "        # 1. Улучшенный embedding слой\n",
    "        self.embedding = nn.Sequential(\n",
    "            nn.Linear(input_dim, d_model),\n",
    "            nn.LayerNorm(d_model),\n",
    "            nn.Dropout(dropout),\n",
    "            nn.GELU(),\n",
    "            nn.Linear(d_model, d_model),\n",
    "            nn.LayerNorm(d_model),\n",
    "            nn.GELU()\n",
    "        )\n",
    "        \n",
    "        # 2. Позиционные эмбеддинги\n",
    "        self.pos_encoder = nn.Parameter(torch.randn(1, 200, d_model))\n",
    "        \n",
    "        # 3. Увеличенный трансформер\n",
    "        encoder_layer = nn.TransformerEncoderLayer(\n",
    "            d_model=d_model,\n",
    "            nhead=nhead,\n",
    "            dim_feedforward=dim_feedforward,\n",
    "            dropout=dropout,\n",
    "            batch_first=True,\n",
    "            activation='gelu'\n",
    "        )\n",
    "        self.transformer = nn.TransformerEncoder(encoder_layer, num_layers=num_layers)\n",
    "        \n",
    "        # 4. Расширенный классификатор\n",
    "        self.classifier = nn.Sequential(\n",
    "            nn.Linear(d_model, d_model),\n",
    "            nn.GELU(),\n",
    "            nn.Linear(d_model, d_model//2),\n",
    "            nn.GELU(),\n",
    "            nn.Dropout(dropout),\n",
    "            nn.Linear(d_model//2, 1)\n",
    "        )\n",
    "        \n",
    "        # Инициализация весов\n",
    "        self._init_weights()\n",
    "    \n",
    "    def _init_weights(self):\n",
    "        for p in self.parameters():\n",
    "            if p.dim() > 1:\n",
    "                nn.init.xavier_uniform_(p)\n",
    "    \n",
    "    def forward(self, x):\n",
    "        # x: [batch_size, seq_len, input_dim]\n",
    "        x = self.embedding(x)  # [batch_size, seq_len, d_model]\n",
    "        x = x + self.pos_encoder[:, :x.size(1), :]\n",
    "        x = self.transformer(x)\n",
    "        return torch.sigmoid(self.classifier(x)).squeeze(-1)  # [batch_size, seq_len]"
   ]
  },
  {
   "cell_type": "code",
   "execution_count": 3,
   "metadata": {},
   "outputs": [],
   "source": [
    "class ResidualBlock(nn.Module):\n",
    "    def __init__(self, channels):\n",
    "        super().__init__()\n",
    "        self.conv1 = nn.Conv2d(channels, channels, kernel_size=3, padding=1, bias=False)\n",
    "        self.bn1 = nn.BatchNorm2d(channels)\n",
    "        self.conv2 = nn.Conv2d(channels, channels, kernel_size=3, padding=1, bias=False)\n",
    "        self.bn2 = nn.BatchNorm2d(channels)\n",
    "        self.relu = nn.ReLU(inplace=True)\n",
    "\n",
    "    def forward(self, x):\n",
    "        residual = x\n",
    "        out = self.conv1(x)\n",
    "        out = self.bn1(out)\n",
    "        out = self.relu(out)\n",
    "        out = self.conv2(out)\n",
    "        out = self.bn2(out)\n",
    "        out += residual\n",
    "        out = self.relu(out)\n",
    "        return out\n",
    "\n",
    "class Board2Vec(nn.Module):\n",
    "    def __init__(self, hidden_dim, output_dim):\n",
    "        super().__init__()\n",
    "        # Входной блок с 12 каналов (6 фигур × 2 цвета + информация про рокировку, взятие на проходе и promotion)\n",
    "        self.initial = nn.Sequential(\n",
    "            nn.Conv2d(12, hidden_dim, kernel_size=3, padding=1, bias=False),\n",
    "            nn.BatchNorm2d(hidden_dim),\n",
    "            nn.ReLU(inplace=True)\n",
    "        )\n",
    "\n",
    "        # Резидуальные блоки\n",
    "        self.block1 = ResidualBlock(hidden_dim)\n",
    "        self.block2 = ResidualBlock(hidden_dim)\n",
    "        self.block3 = ResidualBlock(hidden_dim)\n",
    "\n",
    "        # Глобальный пуллинг и финальные слои\n",
    "        self.avgpool = nn.AdaptiveAvgPool2d((1, 1))\n",
    "        self.fc = nn.Sequential(\n",
    "            nn.Linear(hidden_dim, hidden_dim),\n",
    "            nn.ReLU(inplace=True),\n",
    "            nn.Dropout(0.3),\n",
    "            nn.Linear(hidden_dim, hidden_dim),\n",
    "            nn.ReLU(inplace=True),\n",
    "            nn.Dropout(0.3),\n",
    "            nn.Linear(hidden_dim, output_dim)\n",
    "        )\n",
    "\n",
    "    def forward(self, boards: torch.Tensor):\n",
    "        # boards: (batch_size, 12, 8, 8)\n",
    "        x = self.initial(boards)\n",
    "        x = self.block1(x)\n",
    "        x = self.block2(x)\n",
    "        x = self.block3(x)\n",
    "        x = self.avgpool(x)\n",
    "        x = torch.flatten(x, 1)\n",
    "\n",
    "        # Конкатенация с дополнительными признаками\n",
    "        x = self.fc(x)\n",
    "        return x"
   ]
  },
  {
   "cell_type": "code",
   "execution_count": 4,
   "metadata": {},
   "outputs": [],
   "source": [
    "import chess.pgn\n",
    "import numpy as np\n",
    "\n",
    "def pgn_to_tensors(pgn_path, encoder):\n",
    "    \"\"\"\n",
    "    Преобразует единственную партию из PGN-файла в список тензоров (закодированных досок)\n",
    "    \n",
    "    Аргументы:\n",
    "        pgn_path: str - путь к PGN-файлу с одной партией\n",
    "        encoder - кодировщик досок (должен иметь метод encode)\n",
    "        \n",
    "    Возвращает:\n",
    "        list[np.ndarray] - список закодированных досок для каждого хода партии\n",
    "    \"\"\"\n",
    "    with open(pgn_path) as pgn_file:\n",
    "        game = chess.pgn.read_game(pgn_file)\n",
    "        if game is None:\n",
    "            raise ValueError(\"PGN файл не содержит партий или пуст\")\n",
    "            \n",
    "        # Проверяем, что в файле только одна партия\n",
    "        if chess.pgn.read_game(pgn_file) is not None:\n",
    "            raise ValueError(\"PGN файл содержит более одной партии\")\n",
    "            \n",
    "        board = game.board()\n",
    "        moves = list(game.mainline_moves())\n",
    "        encoded_boards = []\n",
    "        \n",
    "        # Кодируем начальную позицию\n",
    "        encoded_boards.append(encoder.encode(board))\n",
    "        \n",
    "        # Кодируем позиции после каждого хода\n",
    "        for move in moves:\n",
    "            board.push(move)\n",
    "            encoded_boards.append(encoder.encode(board))\n",
    "            \n",
    "        return encoded_boards\n"
   ]
  },
  {
   "cell_type": "code",
   "execution_count": 63,
   "metadata": {},
   "outputs": [
    {
     "name": "stdout",
     "output_type": "stream",
     "text": [
      "Получено 57 закодированных досок\n"
     ]
    }
   ],
   "source": [
    "tensors = pgn_to_tensors(\"C:/Users/matvey/Documents/chess_data/dataset_for_comparsion/nwTYPU4d.pgn\", MatrixEncoder())\n",
    "print(f\"Получено {len(tensors)} закодированных досок\")"
   ]
  },
  {
   "cell_type": "code",
   "execution_count": 64,
   "metadata": {},
   "outputs": [],
   "source": [
    "device = torch.device(\"cuda\" if torch.cuda.is_available() else \"cpu\")"
   ]
  },
  {
   "cell_type": "code",
   "execution_count": 65,
   "metadata": {},
   "outputs": [
    {
     "data": {
      "text/plain": [
       "(57, 64)"
      ]
     },
     "execution_count": 65,
     "metadata": {},
     "output_type": "execute_result"
    }
   ],
   "source": [
    "board2vec = Board2Vec(128, 64)\n",
    "board2vec.load_state_dict(torch.load('checkpoints/board2vec_epoch1.pt', map_location=device))\n",
    "board2vec.eval()\n",
    "embeds = np.array([board2vec(torch.tensor(x).unsqueeze(0)).detach().numpy() for x in tensors]).reshape((len(tensors), 64))\n",
    "embeds.shape"
   ]
  },
  {
   "cell_type": "code",
   "execution_count": 66,
   "metadata": {},
   "outputs": [],
   "source": [
    "# Паддинг\n",
    "if len(tensors) < 200:\n",
    "    pad = torch.zeros(200 - len(tensors), embeds.shape[1])\n",
    "    embeds = torch.cat([torch.FloatTensor(embeds), pad])\n",
    "else:\n",
    "    embeds = torch.FloatTensor(embeds[:200])"
   ]
  },
  {
   "cell_type": "code",
   "execution_count": 67,
   "metadata": {},
   "outputs": [
    {
     "data": {
      "text/plain": [
       "<All keys matched successfully>"
      ]
     },
     "execution_count": 67,
     "metadata": {},
     "output_type": "execute_result"
    }
   ],
   "source": [
    "model = BinaryClassifierTransformer(64).to(device)\n",
    "model.load_state_dict(torch.load('checkpoints/transformer_epoch50.pt', map_location=device))"
   ]
  },
  {
   "cell_type": "code",
   "execution_count": 68,
   "metadata": {},
   "outputs": [
    {
     "name": "stderr",
     "output_type": "stream",
     "text": [
      "C:\\Users\\matvey\\AppData\\Local\\Temp\\ipykernel_10308\\3542970296.py:1: UserWarning: To copy construct from a tensor, it is recommended to use sourceTensor.detach().clone() or sourceTensor.detach().clone().requires_grad_(True), rather than torch.tensor(sourceTensor).\n",
      "  result = model(torch.tensor(embeds))[0][:len(tensors)].detach().numpy()\n"
     ]
    }
   ],
   "source": [
    "result = model(torch.tensor(embeds))[0][:len(tensors)].detach().numpy()"
   ]
  },
  {
   "cell_type": "code",
   "execution_count": 69,
   "metadata": {},
   "outputs": [
    {
     "data": {
      "image/png": "[encoded data removed]",
      "text/plain": [
       "<Figure size 640x480 with 1 Axes>"
      ]
     },
     "metadata": {},
     "output_type": "display_data"
    }
   ],
   "source": [
    "import matplotlib.pyplot as plt\n",
    "\n",
    "plt.plot(result)\n",
    "plt.show()"
   ]
  },
  {
   "cell_type": "code",
   "execution_count": 73,
   "metadata": {},
   "outputs": [],
   "source": [
    "from scipy.signal import find_peaks\n",
    "from scipy.signal import peak_widths\n",
    "\n",
    "\n",
    "from scipy.signal import find_peaks\n",
    "from scipy.signal import peak_widths\n",
    "import numpy as np\n",
    "\n",
    "def inference(y_pred):\n",
    "    # Применяем сглаживание\n",
    "    kernel = np.ones(5) / 5\n",
    "    smoothed = np.convolve(y_pred, kernel, mode='same')\n",
    "    \n",
    "    threshold = np.percentile(smoothed, 70)\n",
    "    peaks, _ = find_peaks(smoothed, height=threshold, distance=10)\n",
    "    \n",
    "    # Если пики не найдены, используем простой порог\n",
    "    if len(peaks) == 0:\n",
    "        y_result = (smoothed > threshold).astype(int)\n",
    "        return y_result\n",
    "    \n",
    "    rel_heights = np.minimum(1, smoothed[peaks] * 8)\n",
    "    widths_list, left_ips_list, right_ips_list = [], [], []\n",
    "    \n",
    "    for i, peak in enumerate(peaks):\n",
    "        w, _, l, r = peak_widths(smoothed, [peak], rel_height=rel_heights[i])\n",
    "        widths_list.append(w[0])\n",
    "        left_ips_list.append(l[0])\n",
    "        right_ips_list.append(r[0])\n",
    "    \n",
    "    widths = np.array(widths_list)\n",
    "    left_ips = np.array(left_ips_list)\n",
    "    right_ips = np.array(right_ips_list)\n",
    "    \n",
    "    valid_mask = (widths > 4) & (widths < 50)\n",
    "    left_ips = left_ips[valid_mask]\n",
    "    right_ips = right_ips[valid_mask]\n",
    "    \n",
    "    y_result = np.zeros_like(y_pred)\n",
    "    \n",
    "    left_bounds = np.floor(left_ips).astype(int)\n",
    "    right_bounds = np.ceil(right_ips).astype(int) + 1\n",
    "    \n",
    "    for start, end in zip(left_bounds, right_bounds):\n",
    "        y_result[start:end] = 1\n",
    "    \n",
    "    # Дополнительная проверка: если после всех фильтров остались нули\n",
    "    # возвращаем результат по порогу\n",
    "    if np.sum(y_result) == 0:\n",
    "        threshold = np.percentile(smoothed, 80)\n",
    "        y_result = (smoothed > threshold).astype(int)\n",
    "    \n",
    "    return y_result"
   ]
  },
  {
   "cell_type": "code",
   "execution_count": 74,
   "metadata": {},
   "outputs": [],
   "source": [
    "y_result = inference(result)"
   ]
  },
  {
   "cell_type": "code",
   "execution_count": 75,
   "metadata": {},
   "outputs": [
    {
     "data": {
      "image/png": "[encoded data removed]",
      "text/plain": [
       "<Figure size 640x480 with 1 Axes>"
      ]
     },
     "metadata": {},
     "output_type": "display_data"
    }
   ],
   "source": [
    "import matplotlib.pyplot as plt\n",
    "\n",
    "plt.plot(result)\n",
    "plt.plot(y_result)\n",
    "plt.show()"
   ]
  },
  {
   "cell_type": "code",
   "execution_count": 76,
   "metadata": {},
   "outputs": [],
   "source": [
    "import numpy as np\n",
    "\n",
    "def find_longest_segment_of_ones(arr):\n",
    "    # Находим индексы, где происходят переходы между 0 и 1\n",
    "    changes = np.diff(np.concatenate(([0], arr, [0])))\n",
    "    \n",
    "    # Начала отрезков (индексы, где 0 переходит в 1)\n",
    "    starts = np.where(changes == 1)[0]\n",
    "    # Концы отрезков (индексы, где 1 переходит в 0)\n",
    "    ends = np.where(changes == -1)[0]\n",
    "    \n",
    "    # Если нет отрезков из единиц, возвращаем (0, 0)\n",
    "    if len(starts) == 0:\n",
    "        return (0, 0)\n",
    "    \n",
    "    # Находим самый длинный отрезок\n",
    "    lengths = ends - starts\n",
    "    longest_idx = np.argmax(lengths)\n",
    "    \n",
    "    return (starts[longest_idx], ends[longest_idx])"
   ]
  },
  {
   "cell_type": "code",
   "execution_count": 77,
   "metadata": {},
   "outputs": [
    {
     "data": {
      "text/plain": [
       "(np.int64(45), np.int64(57))"
      ]
     },
     "execution_count": 77,
     "metadata": {},
     "output_type": "execute_result"
    }
   ],
   "source": [
    "find_longest_segment_of_ones(y_result)"
   ]
  },
  {
   "cell_type": "code",
   "execution_count": 78,
   "metadata": {},
   "outputs": [],
   "source": [
    "import csv\n",
    "csv_file = 'C:/Users/matvey/Documents/chess_data/dataset_for_comparsion/_info.csv'\n",
    "with open(csv_file, mode='r', encoding='utf-8') as file:\n",
    "    lol = list(csv.DictReader(file))\n",
    "# reader = list(csv.DictReader(file))[200:400]\n",
    "kek = lol[:100] + lol[200:400] + lol[400:500]"
   ]
  },
  {
   "cell_type": "code",
   "execution_count": 80,
   "metadata": {},
   "outputs": [
    {
     "name": "stderr",
     "output_type": "stream",
     "text": [
      "C:\\Users\\matvey\\AppData\\Local\\Temp\\ipykernel_10308\\1540879712.py:20: UserWarning: To copy construct from a tensor, it is recommended to use sourceTensor.detach().clone() or sourceTensor.detach().clone().requires_grad_(True), rather than torch.tensor(sourceTensor).\n",
      "  result = model(torch.tensor(embeds))[0][:len(tensors)].detach().numpy()\n"
     ]
    },
    {
     "name": "stdout",
     "output_type": "stream",
     "text": [
      "401\r"
     ]
    }
   ],
   "source": [
    "import pandas as pd\n",
    "\n",
    "comp_path = 'C:/Users/matvey/workspace/FriflexChess/highlighter/comparsion.csv'\n",
    "\n",
    "with open(comp_path, encoding='utf-8') as file:\n",
    "    lines = [i.strip() for i in file.readlines()]\n",
    "    lines[0] = 'start_dataset,end_dataset,start_llm,end_llm,start_transformer,end_transformer'\n",
    "    cnt = 1\n",
    "    for i in kek:\n",
    "        path = i['path_to_pgn']\n",
    "        start, end = map(int, i['marks'].split(','))\n",
    "        tensors = pgn_to_tensors(path, MatrixEncoder())  # Исправлено path_to_pgn на path\n",
    "        embeds = np.array([board2vec(torch.tensor(x).unsqueeze(0)).detach().numpy() for x in tensors]).reshape((len(tensors), 64))\n",
    "        # Паддинг\n",
    "        if len(tensors) < 200:\n",
    "            pad = torch.zeros(200 - len(tensors), embeds.shape[1])\n",
    "            embeds = torch.cat([torch.FloatTensor(embeds), pad])\n",
    "        else:\n",
    "            embeds = torch.FloatTensor(embeds[:200])\n",
    "        result = model(torch.tensor(embeds))[0][:len(tensors)].detach().numpy()\n",
    "        y_res = inference(result)\n",
    "        tr_s, tr_e = find_longest_segment_of_ones(y_res)\n",
    "        # asd.append((tr_s, tr_e))\n",
    "        lines[cnt] += f',{tr_s},{tr_e}'\n",
    "\n",
    "        # print(tr_s, tr_e)\n",
    "        cnt += 1\n",
    "        print(cnt, end='\\r')\n",
    "\n",
    "with open('comparsion2.csv', 'w', encoding='utf-8') as file:\n",
    "    file.write('\\n'.join(lines))\n"
   ]
  },
  {
   "cell_type": "code",
   "execution_count": null,
   "metadata": {},
   "outputs": [],
   "source": []
  }
 ],
 "metadata": {
  "kernelspec": {
   "display_name": ".venv",
   "language": "python",
   "name": "python3"
  },
  "language_info": {
   "codemirror_mode": {
    "name": "ipython",
    "version": 3
   },
   "file_extension": ".py",
   "mimetype": "text/x-python",
   "name": "python",
   "nbconvert_exporter": "python",
   "pygments_lexer": "ipython3",
   "version": "3.10.11"
  }
 },
 "nbformat": 4,
 "nbformat_minor": 2
}
